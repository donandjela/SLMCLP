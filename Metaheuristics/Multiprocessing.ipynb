{
 "cells": [
  {
   "cell_type": "code",
   "execution_count": 1,
   "metadata": {
    "scrolled": true
   },
   "outputs": [],
   "source": [
    "import multiprocessing as mp\n",
    "import PSO as pso\n",
    "import pandas as pd\n",
    "import tqdm\n",
    "import HIBRID_TS_PSO as hibrid\n",
    "import TS as ts"
   ]
  },
  {
   "cell_type": "code",
   "execution_count": 2,
   "metadata": {},
   "outputs": [],
   "source": [
    "results = []\n",
    "def print_result(result):\n",
    "    print(result)\n",
    "    results.append(result)"
   ]
  },
  {
   "cell_type": "code",
   "execution_count": 3,
   "metadata": {},
   "outputs": [],
   "source": [
    "def multi(func, nb_repeat = 15, maxiter = 50):\n",
    "    \n",
    "    pool = mp.Pool(3)\n",
    "    tqdm.tqdm([pool.apply_async(func,  kwds = dict(maxiter=maxiter),\n",
    "                                          callback = print_result) for x in range(nb_repeat)])\n",
    "    pool.close()\n"
   ]
  },
  {
   "cell_type": "code",
   "execution_count": 4,
   "metadata": {},
   "outputs": [],
   "source": [
    "def write(results, opt_value):\n",
    "    \n",
    "    res = pd.DataFrame(results, columns = ['Value','Time best', 'Exe time'])\n",
    "    \n",
    "    res['gap'] = res['Value'].apply(lambda sol: abs(sol - opt_value)/opt_value)\n",
    "    \n",
    "    display(res)\n",
    "    \n",
    "    best_val = res['Value'].max()\n",
    "    avg_best_time = res['Time best'].mean()\n",
    "    avg_tot_time = res['Exe time'].mean()\n",
    "    \n",
    "    agap = res['gap'].mean()\n",
    "    \n",
    "    \n",
    "    st_dev  = (res['gap'].apply(lambda g: (g - agap)**2).mean())**(0.5)\n",
    "    \n",
    "    \n",
    "    print(f'Best value = {best_val}')\n",
    "    print('Average best time: {0:.6f}'.format(avg_best_time))\n",
    "    print('Average total time: {0:.6f}'.format(avg_tot_time))\n",
    "    print('Gap: {0:.3f}%'.format(agap*100))\n",
    "    print('Standard deviation: {0:.3f}%'.format(st_dev*100))"
   ]
  },
  {
   "cell_type": "code",
   "execution_count": 5,
   "metadata": {},
   "outputs": [
    {
     "name": "stderr",
     "output_type": "stream",
     "text": [
      "  0%|                                                                                           | 0/15 [00:00<?, ?it/s]\n"
     ]
    }
   ],
   "source": [
    "multi(ts.tabu_search)"
   ]
  },
  {
   "cell_type": "code",
   "execution_count": 7,
   "metadata": {
    "scrolled": true
   },
   "outputs": [
    {
     "data": {
      "text/html": [
       "<div>\n",
       "<style scoped>\n",
       "    .dataframe tbody tr th:only-of-type {\n",
       "        vertical-align: middle;\n",
       "    }\n",
       "\n",
       "    .dataframe tbody tr th {\n",
       "        vertical-align: top;\n",
       "    }\n",
       "\n",
       "    .dataframe thead th {\n",
       "        text-align: right;\n",
       "    }\n",
       "</style>\n",
       "<table border=\"1\" class=\"dataframe\">\n",
       "  <thead>\n",
       "    <tr style=\"text-align: right;\">\n",
       "      <th></th>\n",
       "      <th>Value</th>\n",
       "      <th>Time best</th>\n",
       "      <th>Exe time</th>\n",
       "      <th>gap</th>\n",
       "    </tr>\n",
       "  </thead>\n",
       "  <tbody>\n",
       "    <tr>\n",
       "      <th>0</th>\n",
       "      <td>209</td>\n",
       "      <td>0.0</td>\n",
       "      <td>0.009552</td>\n",
       "      <td>0.0</td>\n",
       "    </tr>\n",
       "    <tr>\n",
       "      <th>1</th>\n",
       "      <td>209</td>\n",
       "      <td>0.0</td>\n",
       "      <td>0.009790</td>\n",
       "      <td>0.0</td>\n",
       "    </tr>\n",
       "    <tr>\n",
       "      <th>2</th>\n",
       "      <td>209</td>\n",
       "      <td>0.0</td>\n",
       "      <td>0.020759</td>\n",
       "      <td>0.0</td>\n",
       "    </tr>\n",
       "    <tr>\n",
       "      <th>3</th>\n",
       "      <td>209</td>\n",
       "      <td>0.0</td>\n",
       "      <td>0.010916</td>\n",
       "      <td>0.0</td>\n",
       "    </tr>\n",
       "    <tr>\n",
       "      <th>4</th>\n",
       "      <td>209</td>\n",
       "      <td>0.0</td>\n",
       "      <td>0.011669</td>\n",
       "      <td>0.0</td>\n",
       "    </tr>\n",
       "    <tr>\n",
       "      <th>5</th>\n",
       "      <td>209</td>\n",
       "      <td>0.0</td>\n",
       "      <td>0.003820</td>\n",
       "      <td>0.0</td>\n",
       "    </tr>\n",
       "    <tr>\n",
       "      <th>6</th>\n",
       "      <td>209</td>\n",
       "      <td>0.0</td>\n",
       "      <td>0.010662</td>\n",
       "      <td>0.0</td>\n",
       "    </tr>\n",
       "    <tr>\n",
       "      <th>7</th>\n",
       "      <td>209</td>\n",
       "      <td>0.0</td>\n",
       "      <td>0.020320</td>\n",
       "      <td>0.0</td>\n",
       "    </tr>\n",
       "    <tr>\n",
       "      <th>8</th>\n",
       "      <td>209</td>\n",
       "      <td>0.0</td>\n",
       "      <td>0.006000</td>\n",
       "      <td>0.0</td>\n",
       "    </tr>\n",
       "    <tr>\n",
       "      <th>9</th>\n",
       "      <td>209</td>\n",
       "      <td>0.0</td>\n",
       "      <td>0.010020</td>\n",
       "      <td>0.0</td>\n",
       "    </tr>\n",
       "    <tr>\n",
       "      <th>10</th>\n",
       "      <td>209</td>\n",
       "      <td>0.0</td>\n",
       "      <td>0.009230</td>\n",
       "      <td>0.0</td>\n",
       "    </tr>\n",
       "    <tr>\n",
       "      <th>11</th>\n",
       "      <td>209</td>\n",
       "      <td>0.0</td>\n",
       "      <td>0.008619</td>\n",
       "      <td>0.0</td>\n",
       "    </tr>\n",
       "    <tr>\n",
       "      <th>12</th>\n",
       "      <td>209</td>\n",
       "      <td>0.0</td>\n",
       "      <td>0.035359</td>\n",
       "      <td>0.0</td>\n",
       "    </tr>\n",
       "    <tr>\n",
       "      <th>13</th>\n",
       "      <td>209</td>\n",
       "      <td>0.0</td>\n",
       "      <td>0.008833</td>\n",
       "      <td>0.0</td>\n",
       "    </tr>\n",
       "    <tr>\n",
       "      <th>14</th>\n",
       "      <td>209</td>\n",
       "      <td>0.0</td>\n",
       "      <td>0.004000</td>\n",
       "      <td>0.0</td>\n",
       "    </tr>\n",
       "  </tbody>\n",
       "</table>\n",
       "</div>"
      ],
      "text/plain": [
       "    Value  Time best  Exe time  gap\n",
       "0     209        0.0  0.009552  0.0\n",
       "1     209        0.0  0.009790  0.0\n",
       "2     209        0.0  0.020759  0.0\n",
       "3     209        0.0  0.010916  0.0\n",
       "4     209        0.0  0.011669  0.0\n",
       "5     209        0.0  0.003820  0.0\n",
       "6     209        0.0  0.010662  0.0\n",
       "7     209        0.0  0.020320  0.0\n",
       "8     209        0.0  0.006000  0.0\n",
       "9     209        0.0  0.010020  0.0\n",
       "10    209        0.0  0.009230  0.0\n",
       "11    209        0.0  0.008619  0.0\n",
       "12    209        0.0  0.035359  0.0\n",
       "13    209        0.0  0.008833  0.0\n",
       "14    209        0.0  0.004000  0.0"
      ]
     },
     "metadata": {},
     "output_type": "display_data"
    },
    {
     "name": "stdout",
     "output_type": "stream",
     "text": [
      "Best value = 209\n",
      "Average best time: 0.000000\n",
      "Average total time: 0.011970\n",
      "Gap: 0.000%\n",
      "Standard deviation: 0.000%\n"
     ]
    }
   ],
   "source": [
    "write(results,209)"
   ]
  },
  {
   "cell_type": "code",
   "execution_count": null,
   "metadata": {},
   "outputs": [],
   "source": []
  }
 ],
 "metadata": {
  "kernelspec": {
   "display_name": "Python 3",
   "language": "python",
   "name": "python3"
  },
  "language_info": {
   "codemirror_mode": {
    "name": "ipython",
    "version": 3
   },
   "file_extension": ".py",
   "mimetype": "text/x-python",
   "name": "python",
   "nbconvert_exporter": "python",
   "pygments_lexer": "ipython3",
   "version": "3.6.5"
  }
 },
 "nbformat": 4,
 "nbformat_minor": 2
}
